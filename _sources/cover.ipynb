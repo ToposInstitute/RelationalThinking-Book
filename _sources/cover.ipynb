{
 "cells": [
  {
   "cell_type": "markdown",
   "id": "4449545d",
   "metadata": {},
   "source": [
    "# Cover\n",
    "\n",
    "<div style=\"width: 600px;border: 2px solid;border-radius: 20px; border-color: lightgray;\">\n",
    "\n",
    "\n",
    "```{image} assets/logo/mozilla-cover.jpg\n",
    ":alt: Whoopsy!\n",
    ":width: 500px\n",
    ":align: center\n",
    "```\n",
    "\n",
    "</div>"
   ]
  }
 ],
 "metadata": {
  "jupytext": {
   "formats": "md:myst",
   "text_representation": {
    "extension": ".md",
    "format_name": "myst"
   }
  },
  "kernelspec": {
   "display_name": "Julia 1.10",
   "language": "julia",
   "name": "julia-1.10"
  },
  "source_map": [
   11
  ]
 },
 "nbformat": 4,
 "nbformat_minor": 5
}